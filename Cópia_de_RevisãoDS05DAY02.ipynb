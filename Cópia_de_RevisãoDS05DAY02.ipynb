{
  "nbformat": 4,
  "nbformat_minor": 0,
  "metadata": {
    "colab": {
      "provenance": [],
      "collapsed_sections": [
        "QC1hjSrMIZ7L"
      ],
      "include_colab_link": true
    },
    "kernelspec": {
      "name": "python3",
      "display_name": "Python 3"
    },
    "language_info": {
      "name": "python"
    }
  },
  "cells": [
    {
      "cell_type": "markdown",
      "metadata": {
        "id": "view-in-github",
        "colab_type": "text"
      },
      "source": [
        "<a href=\"https://colab.research.google.com/github/Thiago-Dados2022/arquivos-legais/blob/main/Co%CC%81pia_de_Revisa%CC%83oDS05DAY02.ipynb\" target=\"_parent\"><img src=\"https://colab.research.google.com/assets/colab-badge.svg\" alt=\"Open In Colab\"/></a>"
      ]
    },
    {
      "cell_type": "markdown",
      "source": [
        "THIAGO BARBOSA DA SILVA \n",
        "ID: 73028"
      ],
      "metadata": {
        "id": "DBXQv0JubA-p"
      }
    },
    {
      "cell_type": "markdown",
      "source": [
        "Exercícios"
      ],
      "metadata": {
        "id": "yyhf2rUGbbiR"
      }
    },
    {
      "cell_type": "code",
      "source": [
        "x = 5\n",
        "print(type(x))\n",
        "\n",
        "x = 5.0\n",
        "print(type(x))\n",
        "\n",
        "x = 5.5\n",
        "print(type(x))\n",
        "\n",
        "x = 'DNC'\n",
        "print(type(x))\n",
        "\n",
        "x = 1/2\n",
        "print(type(x))\n",
        "\n",
        "x = (0.5*2)\n",
        "print(type(x))\n",
        "\n",
        "x = 2**4\n",
        "print(type(x))\n",
        "\n",
        "x = 2+4\n",
        "print(type(x))\n",
        "\n",
        "x = 1000000000\n",
        "print(type(x))\n",
        "\n",
        "x = int(input('Digite um dado inteiro: '))\n",
        "print(type(x))\n",
        "\n",
        "x = float(input('Digite um dado float: '))\n",
        "print(type(x))\n",
        "\n",
        "x = input('Digite um dado string: ')\n",
        "print(type(x))\n",
        "\n",
        "x = input('Digite um dado: ')\n",
        "print (type(x))"
      ],
      "metadata": {
        "id": "Uzr0M5WGlUZs"
      },
      "execution_count": null,
      "outputs": []
    },
    {
      "cell_type": "code",
      "source": [
        "print('-'*50)\n",
        "print(\"DS06 - DNC\")\n",
        "print('-'*50)"
      ],
      "metadata": {
        "id": "KUIZ-n_vrKds",
        "outputId": "3097609d-c8e2-4d2d-b5ea-36aa31558f34",
        "colab": {
          "base_uri": "https://localhost:8080/"
        }
      },
      "execution_count": null,
      "outputs": [
        {
          "output_type": "stream",
          "name": "stdout",
          "text": [
            "--------------------------------------------------\n",
            "DS06 - DNC\n",
            "--------------------------------------------------\n"
          ]
        }
      ]
    },
    {
      "cell_type": "code",
      "source": [
        "salario_cientista_de_dados = 10000.00\n",
        "parcela_bmw = 2500.45\n",
        "parcela_apartamento = 3500.50\n",
        "veterinario_romeuzinho = 500.00\n",
        "luz = 100.80\n",
        "agua = 80.35\n",
        "condominio = 800.44\n",
        "gas = 150.65\n",
        "valor_a_guardar = salário_cientista_de_dados - parcela_bmw - parcela_apartamento - veterinario_romeuzinho - luz - agua - condominio - gas\n",
        "print('-'*100)\n",
        "\n",
        "print('Seu salário de cientista de dados junior é de R$:',salario_cientista_de_dados, 'e seus gastos estão dispostos a seguir: '.format(salario_cientista_de_dados))\n",
        "print('Parcela da BMW - 250.45 \\n''Parcela do apartamento - 3500.5\\n''Vetreinario do Romeuzinho - 500\\n''Conta de luz - 100.8\\n''Conta de água - 80.35\\n''Conta de condomínio - 800.44\\n''Conta de gás - 150.65')\n",
        "print('-'*100)\n",
        "print('O valor disponivel para colocar na poupança é de: R$', valor_a_guardar)\n"
      ],
      "metadata": {
        "id": "DXdEUbSzsG98"
      },
      "execution_count": null,
      "outputs": []
    },
    {
      "cell_type": "code",
      "source": [
        "a = formacao_em_dados = 20000.00\n",
        "b = formacao_em_projetos = 15000.00\n",
        "c = formacao_em_marketing = 13000.00\n",
        "d = formacao_em_produto = 18000.00\n",
        "e = formacao_em_tecnologia = 19000.00\n",
        "\n",
        "curso = int(input('Qual curso você quer escolher?:\\n 1 = Formação de Dados\\n 2 = Formação em Projetos\\n 3 = Formação em Marketing\\n 4 = Formação em Produtos\\n 5 = Formação em Tecnologia.\\n'))\n",
        "\n",
        "if curso == 1:\n",
        " print(\"Você escolheu o curso Formação em Dados no valor de R$ 20000.00 que começará no próximo mês\")\n",
        "\n",
        "elif curso == 2:\n",
        "  print(\"Você escolheu o curso Formação Projetos no valor de R$ 15000.00 que começará no próximo mês\")\n",
        "elif curso == 3:\n",
        "   print(\"Você escolheu o curso Formação Marketing no valor de R$ 13000.00 que começará no próximo mês\") \n",
        "elif curso == 4:\n",
        "  print(\"Você escolheu o curso Formação Produto no valor de R$ 18000.00 que começará no próximo mês\") \n",
        "elif curso == 5:\n",
        "  print(\"Você escolheu o curso Formação Tecnologia no valor de R$ 19000.00 que começará no próximo mês\")    \n",
        "elif curso > 1 or curso < 5:\n",
        "  print(\"Digite um valor correspondente a um curso de nossas formações \\n1-Formação em dados \\n2-Formação em projetos\\n3-Formação em marketing\\n4-Formação em produto\\n5-Formação em tecnologia\")\n"
      ],
      "metadata": {
        "id": "tK-PMAS2xVg3",
        "outputId": "50048c37-4997-4019-9f0a-6d20c3ab6619",
        "colab": {
          "base_uri": "https://localhost:8080/"
        }
      },
      "execution_count": null,
      "outputs": [
        {
          "output_type": "stream",
          "name": "stdout",
          "text": [
            "Qual curso você quer escolher?:\n",
            " 1 = Formação de Dados\n",
            " 2 = Formação em Projetos\n",
            " 3 = Formação em Marketing\n",
            " 4 = Formação em Produtos\n",
            " 5 = Formação em Tecnologia.\n",
            "0\n",
            "Digite um valor correspondente a um curso de nossas formações \n",
            "1-Formação em dados \n",
            "2-Formação em projetos\n",
            "3-Formação em marketing\n",
            "4-Formação em produto\n",
            "5-Formação em tecnologia\n"
          ]
        }
      ]
    },
    {
      "cell_type": "code",
      "source": [
        "formacao_em_dados = 45*20000.00\n",
        "formacao_em_projetos = 30*15000.00\n",
        "formacao_em_marketing = 20*13000.00\n",
        "formacao_em_produto = 35*18000.00\n",
        "formacao_em_tecnologia = 30*19000.00\n",
        "\n",
        "receita_total = formacao_em_dados + formacao_em_projetos + formacao_em_marketing + formacao_em_produto + formacao_em_tecnologia\n",
        "media_geral = (formacao_em_dados + formacao_em_projetos + formacao_em_marketing + formacao_em_produto + formacao_em_tecnologia)/5\n",
        "\n",
        "if receita_total > 200000.00:\n",
        "  print(\"Parabéns!!! A DNC bateu a meta do mês\")\n",
        "\n",
        "elif receita_total <= 200000.00: \n",
        "  print(\"Esse mês não batemos a meta, porém mês que vem vamos vir mais forte pra recuperar!!!\")  \n",
        "  \n",
        " "
      ],
      "metadata": {
        "id": "_u2hqwgI-gTW",
        "outputId": "a206682d-e91b-40a0-e5ec-84510f973425",
        "colab": {
          "base_uri": "https://localhost:8080/"
        }
      },
      "execution_count": null,
      "outputs": [
        {
          "output_type": "stream",
          "name": "stdout",
          "text": [
            "Parabéns!!! A DNC bateu a meta do mês\n"
          ]
        }
      ]
    },
    {
      "cell_type": "code",
      "source": [],
      "metadata": {
        "id": "cwxrs0MWCWMK"
      },
      "execution_count": null,
      "outputs": []
    }
  ]
}